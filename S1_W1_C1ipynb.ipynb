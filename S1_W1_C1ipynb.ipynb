{
  "nbformat": 4,
  "nbformat_minor": 0,
  "metadata": {
    "colab": {
      "provenance": [],
      "include_colab_link": true
    },
    "kernelspec": {
      "name": "python3",
      "display_name": "Python 3"
    },
    "language_info": {
      "name": "python"
    }
  },
  "cells": [
    {
      "cell_type": "markdown",
      "metadata": {
        "id": "view-in-github",
        "colab_type": "text"
      },
      "source": [
        "<a href=\"https://colab.research.google.com/github/ZarRomM/Tripleten-Colab/blob/main/S1_W1_C1ipynb.ipynb\" target=\"_parent\"><img src=\"https://colab.research.google.com/assets/colab-badge.svg\" alt=\"Open In Colab\"/></a>"
      ]
    },
    {
      "cell_type": "markdown",
      "source": [
        "# Sprint 1 - Week 1 - Class 1 - 2\n",
        "\n",
        "Agenda:\n",
        "\n",
        "1. Cómo interactuamos con python?\n",
        "2. Ingresando por primera vez a google colab.\n",
        "3. Variables.\n",
        "4. Print.\n",
        "5. Tipos de datos:\n",
        "  - String.\n",
        "  - Float.\n",
        "  - Int\n",
        "  - List [].\n",
        "  - Diccionario {}.\n",
        "  - Tupla ().\n",
        "  - Sets {}.\n",
        "  - Boolean."
      ],
      "metadata": {
        "id": "L-d3z1iEvR2G"
      }
    },
    {
      "cell_type": "markdown",
      "source": [
        "--------------------------------------------------------------------------"
      ],
      "metadata": {
        "id": "_8q8zMAH0rxg"
      }
    },
    {
      "cell_type": "markdown",
      "source": [
        "# Variables"
      ],
      "metadata": {
        "id": "4WX0DkMu7GO3"
      }
    },
    {
      "cell_type": "code",
      "source": [
        "variable1 = 1\n",
        "variable2 = 'Hola'\n",
        "variable3 = 1.2\n",
        "variable4 = []"
      ],
      "metadata": {
        "id": "2sYhnpqX7III"
      },
      "execution_count": null,
      "outputs": []
    },
    {
      "cell_type": "code",
      "source": [
        "print(variable1)"
      ],
      "metadata": {
        "colab": {
          "base_uri": "https://localhost:8080/"
        },
        "id": "wMa-XzN97ybT",
        "outputId": "a5edc6aa-906b-4bea-f9c2-7540b1437aab"
      },
      "execution_count": null,
      "outputs": [
        {
          "output_type": "stream",
          "name": "stdout",
          "text": [
            "1\n"
          ]
        }
      ]
    },
    {
      "cell_type": "code",
      "source": [
        "variable1 = 1\n",
        "\n",
        "variable1 = 2"
      ],
      "metadata": {
        "id": "zVLe9qfs75xB"
      },
      "execution_count": null,
      "outputs": []
    },
    {
      "cell_type": "code",
      "source": [
        "print(variable1)"
      ],
      "metadata": {
        "colab": {
          "base_uri": "https://localhost:8080/"
        },
        "id": "M9_Jf4cZ8UUG",
        "outputId": "9b0dfa78-bc23-4091-8392-72be38899824"
      },
      "execution_count": null,
      "outputs": [
        {
          "output_type": "stream",
          "name": "stdout",
          "text": [
            "2\n"
          ]
        }
      ]
    },
    {
      "cell_type": "code",
      "source": [
        "a = 3\n",
        "\n",
        "b = a  # b = 3 a = 3\n",
        "\n",
        "c = b  #c = 3 b = 3\n",
        "\n",
        "a = c\n",
        "#asdasds"
      ],
      "metadata": {
        "id": "1F11DFUI8an4"
      },
      "execution_count": null,
      "outputs": []
    },
    {
      "cell_type": "code",
      "source": [
        "print(c)"
      ],
      "metadata": {
        "colab": {
          "base_uri": "https://localhost:8080/"
        },
        "id": "IKrTSIQS8aqa",
        "outputId": "24e86885-dfc2-480f-f548-a9c5ae16bcdc"
      },
      "execution_count": null,
      "outputs": [
        {
          "output_type": "stream",
          "name": "stdout",
          "text": [
            "3\n"
          ]
        }
      ]
    },
    {
      "cell_type": "code",
      "source": [
        "c = b = a = 3"
      ],
      "metadata": {
        "id": "Ht4dyk0g8atR"
      },
      "execution_count": null,
      "outputs": []
    },
    {
      "cell_type": "code",
      "source": [
        "print(c)"
      ],
      "metadata": {
        "colab": {
          "base_uri": "https://localhost:8080/"
        },
        "id": "_inV2XDS9JK0",
        "outputId": "b1b72a4d-e6d6-4d11-ef3b-8ba5b8874c7c"
      },
      "execution_count": null,
      "outputs": [
        {
          "output_type": "stream",
          "name": "stdout",
          "text": [
            "3\n"
          ]
        }
      ]
    },
    {
      "cell_type": "markdown",
      "source": [
        "# Comando: print\n",
        "\n",
        "## Definición\n",
        "El comando `print` en Python se utiliza para mostrar información en la consola. Puede imprimir texto, números, listas, diccionarios y más.\n",
        "\n",
        "## Características\n",
        "- Permite imprimir múltiples elementos separados por comas.\n",
        "- Puede formatear la salida de diferentes maneras.\n",
        "- Utiliza cadenas de formato para personalizar la presentación.\n",
        "\n",
        "## Ejemplos de Uso\n",
        "### Imprimir texto\n",
        "```python\n",
        "print(\"Hola, mundo!\")  # Salida: Hola, mundo!\n"
      ],
      "metadata": {
        "id": "nYirDOvv0tXh"
      }
    },
    {
      "cell_type": "code",
      "source": [
        "nombre = \"Alice\"\n",
        "edad = 30\n",
        "print(\"Nombre:\", nombre, \"Edad:\", edad)  # Salida: Nombre: Alice Edad: 30"
      ],
      "metadata": {
        "colab": {
          "base_uri": "https://localhost:8080/"
        },
        "id": "V5OENB5o0uVI",
        "outputId": "99a6e818-0beb-4558-adb0-0b3d5505d85e"
      },
      "execution_count": null,
      "outputs": [
        {
          "output_type": "stream",
          "name": "stdout",
          "text": [
            "Nombre: Alice Edad: 30\n"
          ]
        }
      ]
    },
    {
      "cell_type": "code",
      "source": [
        "print(\"Los números son:\", 1, 2, 3)  # Salida: Los números son: 1 2 3"
      ],
      "metadata": {
        "colab": {
          "base_uri": "https://localhost:8080/"
        },
        "id": "tVU5GooV00Si",
        "outputId": "a8a9eb30-85ca-4752-fd57-8143d7747464"
      },
      "execution_count": null,
      "outputs": [
        {
          "output_type": "stream",
          "name": "stdout",
          "text": [
            "Los números son: 1 2 3\n"
          ]
        }
      ]
    },
    {
      "cell_type": "code",
      "source": [
        "precio = 19.99\n",
        "print(f\"El precio es: {precio}\")  # Salida: El precio es: 19.99"
      ],
      "metadata": {
        "colab": {
          "base_uri": "https://localhost:8080/"
        },
        "id": "atCFjVIb05zI",
        "outputId": "2fdf74d4-50a0-44f2-b996-957684832ba4"
      },
      "execution_count": null,
      "outputs": [
        {
          "output_type": "stream",
          "name": "stdout",
          "text": [
            "El precio es: 19.99\n"
          ]
        }
      ]
    },
    {
      "cell_type": "code",
      "source": [
        "# 1. Imprime un saludo simple\n",
        "print(\"¡Bienvenido a la clase de Python!\")\n",
        "\n",
        "# 2. Define algunas variables\n",
        "nombre = \"Carlos\"\n",
        "edad = 25\n",
        "altura = 1.75\n",
        "\n",
        "# 3. Imprime las variables\n",
        "print(\"Nombre:\", nombre)\n",
        "print(\"Edad:\", edad)\n",
        "print(\"Altura:\", altura)\n",
        "\n",
        "# 4. Imprime una oración combinando variables\n",
        "print(f\"{nombre} tiene {edad} años y mide {altura} metros.\")\n",
        "\n",
        "# 5. Imprime una lista de números\n",
        "numeros = [10, 20, 30]\n",
        "print(\"Lista de números:\", numeros)\n",
        "\n",
        "# 6. Imprime un diccionario\n",
        "persona = {\"nombre\": nombre, \"edad\": edad}\n",
        "print(\"Información de la persona:\", persona)\n",
        "\n",
        "# 7. Imprime varios elementos en una sola línea\n",
        "print(\"Datos:\", nombre, edad, altura, sep=\" | \")  # Usa el argumento sep para cambiar el separador\n"
      ],
      "metadata": {
        "colab": {
          "base_uri": "https://localhost:8080/"
        },
        "id": "yR4kxBOj0-Fg",
        "outputId": "86db39e0-11dd-4b5e-ec79-c5569407e1f7"
      },
      "execution_count": null,
      "outputs": [
        {
          "output_type": "stream",
          "name": "stdout",
          "text": [
            "¡Bienvenido a la clase de Python!\n",
            "Nombre: Carlos\n",
            "Edad: 25\n",
            "Altura: 1.75\n",
            "Carlos tiene 25 años y mide 1.75 metros.\n",
            "Lista de números: [10, 20, 30]\n",
            "Información de la persona: {'nombre': 'Carlos', 'edad': 25}\n",
            "Datos: | Carlos | 25 | 1.75\n"
          ]
        }
      ]
    },
    {
      "cell_type": "markdown",
      "source": [
        "-----------------------------------------------------------------"
      ],
      "metadata": {
        "id": "tihC1HPFyyI6"
      }
    },
    {
      "cell_type": "markdown",
      "source": [
        "# Tipo de Dato: String\n",
        "\n",
        "## Definición\n",
        "Un string (cadena de texto) es una secuencia de caracteres. Se utiliza para representar texto en Python.\n",
        "\n",
        "## Características\n",
        "- Se define utilizando comillas simples (`'`) o comillas dobles (`\"`).\n",
        "- Los strings son **inmutables**, lo que significa que no se pueden cambiar después de ser creados.\n",
        "- Se pueden concatenar (unir) usando el operador `+`.\n",
        "- Se pueden multiplicar (repetir) usando el operador `*`.\n",
        "- Se pueden indexar y segmentar para acceder a caracteres específicos o subcadenas.\n",
        "\n",
        "## Métodos Comunes\n",
        "- `len()`: Devuelve la longitud del string.\n",
        "- `.lower()`: Convierte el string a minúsculas.\n",
        "- `.upper()`: Convierte el string a mayúsculas.\n",
        "- `.strip()`: Elimina espacios en blanco al principio y al final.\n",
        "- `.replace(old, new)`: Reemplaza una subcadena por otra.\n",
        "\n",
        "## Ejemplo\n",
        "```python\n",
        "nombre = \"Alice\"\n",
        "saludo = \"Hola, \" + nombre + \"!\"\n",
        "print(saludo)  # Salida: Hola, Alice!\n"
      ],
      "metadata": {
        "id": "VbPjGhyZyh4j"
      }
    },
    {
      "cell_type": "code",
      "source": [
        "string1 = '  andres '\n",
        "print( len(string1) )\n",
        "print(string1.strip())"
      ],
      "metadata": {
        "colab": {
          "base_uri": "https://localhost:8080/"
        },
        "id": "FEl0lpe9BI4j",
        "outputId": "c8b7413b-1b86-43d7-888b-f8d6e6ff8fcc"
      },
      "execution_count": null,
      "outputs": [
        {
          "output_type": "stream",
          "name": "stdout",
          "text": [
            "9\n",
            "andres\n"
          ]
        }
      ]
    },
    {
      "cell_type": "code",
      "source": [
        "# Ejercicio: Practica con Strings\n",
        "\n",
        "# 1. Define un string con tu nombre\n",
        "mi_nombre = \"Irene\"\n",
        "\n",
        "# 2. Imprime la longitud de tu nombre\n",
        "longitud_nombre = len(mi_nombre)\n",
        "print(\"Longitud del nombre:\", longitud_nombre)\n",
        "\n",
        "# 3. Convierte tu nombre a mayúsculas\n",
        "nombre_mayusculas = mi_nombre.upper()\n",
        "print(\"Nombre en mayúsculas:\", nombre_mayusculas)\n",
        "\n",
        "# 3. Convierte tu nombre a mayúsculas\n",
        "nombre_minusculas = mi_nombre.lower()\n",
        "print(\"Nombre en mayúsculas:\", nombre_minusculas)\n",
        "\n",
        "# 4. Reemplaza una letra en tu nombre y muéstralo\n",
        "nombre_modificado = mi_nombre.replace(\"I\", \"@\")  # Cambia \"a\" por \"@\"\n",
        "print(\"Nombre modificado:\", nombre_modificado)\n",
        "\n",
        "# 5. Imprime un saludo\n",
        "saludo = f\"Hola, {mi_nombre}!\"\n",
        "print(saludo)\n"
      ],
      "metadata": {
        "colab": {
          "base_uri": "https://localhost:8080/"
        },
        "id": "l7uL8TNUyrXr",
        "outputId": "e3a5ac2d-2cc1-46dc-eb69-ec2a8017d84e"
      },
      "execution_count": null,
      "outputs": [
        {
          "output_type": "stream",
          "name": "stdout",
          "text": [
            "Longitud del nombre: 5\n",
            "Nombre en mayúsculas: IRENE\n",
            "Nombre en mayúsculas: irene\n",
            "Nombre modificado: @rene\n",
            "Hola, Irene!\n"
          ]
        }
      ]
    },
    {
      "cell_type": "code",
      "source": [
        "nombre = 'Camilo'\n",
        "\n",
        "bienvenida = 'Hola {}, Cómo estas?'.format(nombre)\n",
        "bienvenida2 = f'Hola {nombre}, Cómo estas?'\n",
        "\n",
        "print(bienvenida,'|',bienvenida2)"
      ],
      "metadata": {
        "colab": {
          "base_uri": "https://localhost:8080/"
        },
        "id": "VmobHBLTDJUx",
        "outputId": "4ea8c095-56c8-4bce-db41-3967f65848e1"
      },
      "execution_count": null,
      "outputs": [
        {
          "output_type": "stream",
          "name": "stdout",
          "text": [
            "Hola Camilo, Cómo estas? | Hola Camilo, Cómo estas?\n"
          ]
        }
      ]
    },
    {
      "cell_type": "markdown",
      "source": [
        "--------------------------------------------------------------"
      ],
      "metadata": {
        "id": "Mpm76cxSy4YK"
      }
    },
    {
      "cell_type": "markdown",
      "source": [
        "# Tipo de Dato: Float\n",
        "\n",
        "## Definición\n",
        "Un float (número de punto flotante) es un tipo de dato que representa números reales, es decir, números que pueden tener una parte decimal.\n",
        "\n",
        "## Características\n",
        "- Se define utilizando un número con un punto decimal (por ejemplo, `3.14`).\n",
        "- Puede representar tanto números positivos como negativos.\n",
        "- Se pueden realizar operaciones matemáticas como suma, resta, multiplicación y división.\n",
        "\n",
        "## Métodos Comunes\n",
        "- `round(numero, ndigits)`: Redondea el número a un número específico de dígitos.\n",
        "- `abs(numero)`: Devuelve el valor absoluto del número.\n",
        "\n",
        "## Ejemplo\n",
        "```python\n",
        "pi = 3.14159\n",
        "resultado = pi * 2\n",
        "print(resultado)  # Salida: 6.28318\n"
      ],
      "metadata": {
        "id": "tcko2EFAy8PL"
      }
    },
    {
      "cell_type": "code",
      "source": [
        "# 1. Define un número float\n",
        "precio = -19.99\n",
        "\n",
        "# 2. Imprime el precio y su valor absoluto\n",
        "print(\"Precio original:\", precio)\n",
        "print(\"Valor absoluto del precio:\", abs(precio))\n",
        "\n",
        "# 3. Redondea el precio a un entero\n",
        "precio_redondeado = round(precio,1)\n",
        "print(\"Precio redondeado:\", precio_redondeado)\n",
        "\n",
        "# 4. Calcula el total de 3 productos\n",
        "cantidad = 3\n",
        "total = precio * cantidad\n",
        "print(\"Total por 3 productos:\", total)\n",
        "\n",
        "# 5. Calcula el promedio de tres números\n",
        "numero1 = 4.5\n",
        "numero2 = 3.2\n",
        "numero3 = 5.8\n",
        "promedio = (numero1 + numero2 + numero3) / 3\n",
        "print(\"Promedio:\", promedio)\n"
      ],
      "metadata": {
        "colab": {
          "base_uri": "https://localhost:8080/"
        },
        "id": "LnRprej3y-wC",
        "outputId": "828bc8c1-0d7b-4780-bb4a-8734f4f64649"
      },
      "execution_count": null,
      "outputs": [
        {
          "output_type": "stream",
          "name": "stdout",
          "text": [
            "Precio original: -19.99\n",
            "Valor absoluto del precio: 19.99\n",
            "Precio redondeado: -20.0\n",
            "Total por 3 productos: -59.97\n",
            "Promedio: 4.5\n"
          ]
        }
      ]
    },
    {
      "cell_type": "markdown",
      "source": [
        "----------------------------------------------------------------------------"
      ],
      "metadata": {
        "id": "kqBC4kFizCTj"
      }
    },
    {
      "cell_type": "markdown",
      "source": [
        "# Tipo de Dato: Int\n",
        "\n",
        "## Definición\n",
        "Un int (número entero) es un tipo de dato que representa números enteros, es decir, números sin parte decimal.\n",
        "\n",
        "## Características\n",
        "- Se define utilizando números sin punto decimal (por ejemplo, `42` o `-7`).\n",
        "- Puede representar tanto números positivos como negativos.\n",
        "- Se pueden realizar operaciones matemáticas como suma, resta, multiplicación y división.\n",
        "\n",
        "## Métodos Comunes\n",
        "- `abs(numero)`: Devuelve el valor absoluto del número.\n",
        "- `pow(base, exponente)`: Devuelve la potencia de un número.\n",
        "\n",
        "## Ejemplo\n",
        "```python\n",
        "edad = 30\n",
        "años_hasta_jubilacion = 65 - edad\n",
        "print(\"Años hasta jubilación:\", años_hasta_jubilacion)  # Salida: 35\n"
      ],
      "metadata": {
        "id": "UXB1ozLuzG9i"
      }
    },
    {
      "cell_type": "code",
      "source": [
        "# 1. Define un número entero\n",
        "mi_edad = 25\n",
        "\n",
        "# 2. Imprime tu edad\n",
        "print(\"Mi edad:\", mi_edad)\n",
        "\n",
        "# 3. Calcula y muestra cuántos años faltan para los 30\n",
        "faltan_para_30 = 30 - mi_edad\n",
        "print(\"Años faltantes para 30:\", faltan_para_30)\n",
        "\n",
        "# 4. Multiplica tu edad por 2 y muestra el resultado\n",
        "edad_doblada = mi_edad * 2\n",
        "print(\"Edad doblada:\", edad_doblada)\n",
        "\n",
        "# 5. Calcula la potencia de tu edad al cuadrado\n",
        "edad_cuadrado = pow(mi_edad, 2)\n",
        "print(\"Edad al cuadrado:\", edad_cuadrado)\n"
      ],
      "metadata": {
        "colab": {
          "base_uri": "https://localhost:8080/"
        },
        "id": "RQBKcLNhzHjK",
        "outputId": "296afe76-c21a-4fb9-ed05-d7e31cb1030e"
      },
      "execution_count": null,
      "outputs": [
        {
          "output_type": "stream",
          "name": "stdout",
          "text": [
            "Mi edad: 25\n",
            "Años faltantes para 30: 5\n",
            "Edad doblada: 50\n",
            "Edad al cuadrado: 625\n"
          ]
        }
      ]
    },
    {
      "cell_type": "markdown",
      "source": [
        "-------------------------------------------------------------"
      ],
      "metadata": {
        "id": "qAuVPDFIzpqJ"
      }
    },
    {
      "cell_type": "markdown",
      "source": [
        "# Tipo de Dato: List\n",
        "\n",
        "## Definición\n",
        "Una lista es una colección ordenada y mutable de elementos. Se puede utilizar para almacenar una secuencia de valores.\n",
        "\n",
        "## Características\n",
        "- Se define utilizando corchetes `[]`.\n",
        "- Puede contener elementos de diferentes tipos de datos (números, cadenas, etc.).\n",
        "- Es **mutable**, lo que significa que se pueden modificar sus elementos después de ser creadas.\n",
        "- Permite elementos duplicados.\n",
        "\n",
        "## Métodos Comunes\n",
        "- `.append(elemento)`: Agrega un elemento al final de la lista.\n",
        "- `.remove(elemento)`: Elimina la primera aparición de un elemento en la lista.\n",
        "- `.pop(index)`: Elimina y devuelve el elemento en la posición especificada.\n",
        "- `.sort()`: Ordena los elementos de la lista.\n",
        "- `len()`: Devuelve la longitud de la lista.\n",
        "\n",
        "## Ejemplo\n",
        "```python\n",
        "frutas = [\"manzana\", \"banana\", \"cereza\"]\n",
        "frutas.append(\"naranja\")\n",
        "print(frutas)  # Salida: ['manzana', 'banana', 'cereza', 'naranja']\n"
      ],
      "metadata": {
        "id": "U891Ic4xzSbS"
      }
    },
    {
      "cell_type": "code",
      "source": [
        "ejemplo = [\n",
        "    1,\n",
        "    2,\n",
        "    3,\n",
        "    4,\n",
        "    'sfg',\n",
        "    {\n",
        "        'asd':11,\n",
        "        'clients':{\n",
        "            'asdasd':[1,2,1,]\n",
        "          }\n",
        "    }\n",
        "]"
      ],
      "metadata": {
        "id": "ctMrZj-onMIX"
      },
      "execution_count": null,
      "outputs": []
    },
    {
      "cell_type": "markdown",
      "source": [
        "PEP8"
      ],
      "metadata": {
        "id": "wSIifU2ZP7UL"
      }
    },
    {
      "cell_type": "code",
      "source": [
        "ejemplo.append(['asasa','asaa'])"
      ],
      "metadata": {
        "id": "K5tZ97_FPotZ"
      },
      "execution_count": null,
      "outputs": []
    },
    {
      "cell_type": "code",
      "source": [
        "type(ejemplo)"
      ],
      "metadata": {
        "colab": {
          "base_uri": "https://localhost:8080/"
        },
        "id": "81x8tTWhQ8Xu",
        "outputId": "a8a48646-4c51-4aa9-e7dc-c5a848dbf447"
      },
      "execution_count": null,
      "outputs": [
        {
          "output_type": "execute_result",
          "data": {
            "text/plain": [
              "list"
            ]
          },
          "metadata": {},
          "execution_count": 12
        }
      ]
    },
    {
      "cell_type": "code",
      "source": [
        "ejemplo[5]"
      ],
      "metadata": {
        "colab": {
          "base_uri": "https://localhost:8080/"
        },
        "id": "Q_1KkqgmP0oF",
        "outputId": "7fc39c87-24e0-4735-c728-33838cf4d100"
      },
      "execution_count": null,
      "outputs": [
        {
          "output_type": "execute_result",
          "data": {
            "text/plain": [
              "{'asd': 11, 'clients': {'asdasd': [1, 2, 1]}}"
            ]
          },
          "metadata": {},
          "execution_count": 11
        }
      ]
    },
    {
      "cell_type": "code",
      "source": [
        "# 1. Define una lista de tus colores favoritos\n",
        "colores_favoritos = [\"rojo\", \"verde\", \"azul\"]\n",
        "\n",
        "# 2. Imprime la lista original\n",
        "print(\"Colores favoritos:\", colores_favoritos)\n",
        "\n",
        "# 3. Agrega un nuevo color a la lista\n",
        "colores_favoritos.append(\"amarillo\")\n",
        "print(\"Colores después de agregar uno:\", colores_favoritos)\n",
        "\n",
        "# 4. Elimina un color de la lista\n",
        "colores_favoritos.remove(\"verde\")\n",
        "print(\"Colores después de eliminar uno:\", colores_favoritos)\n",
        "\n",
        "# 5. Ordena la lista de colores\n",
        "colores_favoritos.sort()\n",
        "print(\"Colores ordenados:\", colores_favoritos)\n",
        "\n",
        "# 6. Imprime la longitud de la lista\n",
        "print(\"Número de colores en la lista:\", len(colores_favoritos))\n"
      ],
      "metadata": {
        "colab": {
          "base_uri": "https://localhost:8080/"
        },
        "id": "nPzYM43YzT2a",
        "outputId": "9ed58feb-b53a-4f2c-9794-e14ef27ff2b3"
      },
      "execution_count": null,
      "outputs": [
        {
          "output_type": "stream",
          "name": "stdout",
          "text": [
            "Colores favoritos: ['rojo', 'verde', 'azul']\n",
            "Colores después de agregar uno: ['rojo', 'verde', 'azul', 'amarillo']\n",
            "Colores después de eliminar uno: ['rojo', 'azul', 'amarillo']\n",
            "Colores ordenados: ['amarillo', 'azul', 'rojo']\n",
            "Número de colores en la lista: 3\n"
          ]
        }
      ]
    },
    {
      "cell_type": "markdown",
      "source": [
        "# Tipo de Dato: Dict\n",
        "\n",
        "## Definición\n",
        "Un diccionario (dict) es una colección no ordenada de pares clave-valor. Se utiliza para almacenar datos en forma de asociación.\n",
        "\n",
        "## Características\n",
        "- Se define utilizando llaves `{}`.\n",
        "- Cada elemento consiste en una clave y un valor, separados por dos puntos `:`.\n",
        "- Las claves deben ser únicas y de tipos inmutables (como strings o números).\n",
        "- Es **mutable**, lo que significa que puedes modificar sus elementos después de ser creados.\n",
        "\n",
        "## Métodos Comunes\n",
        "- `.get(clave)`: Devuelve el valor asociado a la clave especificada.\n",
        "- `.keys()`: Devuelve una vista de las claves del diccionario.\n",
        "- `.values()`: Devuelve una vista de los valores del diccionario.\n",
        "- `.items()`: Devuelve una vista de los pares clave-valor del diccionario.\n",
        "- `pop(clave)`: Elimina la clave y devuelve su valor.\n",
        "\n",
        "## Ejemplo\n",
        "```python\n",
        "persona = {\"nombre\": \"Alice\", \"edad\": 30}\n",
        "print(persona[\"nombre\"])  # Salida: Alice\n"
      ],
      "metadata": {
        "id": "muQn0oB5z3Yg"
      }
    },
    {
      "cell_type": "code",
      "source": [
        "persona = {\n",
        "    \"nombre\": \"Carlos\",\n",
        "    \"edad\": 28,\n",
        "    \"ciudad\": \"Madrid\",\n",
        "    8:'asdasdad'\n",
        "}\n",
        "\n",
        "persona[8]"
      ],
      "metadata": {
        "colab": {
          "base_uri": "https://localhost:8080/",
          "height": 36
        },
        "id": "cDUqhmbPQwIN",
        "outputId": "947941e3-87b6-4e64-edd8-61584f226ef7"
      },
      "execution_count": null,
      "outputs": [
        {
          "output_type": "execute_result",
          "data": {
            "text/plain": [
              "'asdasdad'"
            ],
            "application/vnd.google.colaboratory.intrinsic+json": {
              "type": "string"
            }
          },
          "metadata": {},
          "execution_count": 16
        }
      ]
    },
    {
      "cell_type": "code",
      "source": [
        "persona = {\n",
        "    \"nombre\": \"Carlos\",\n",
        "    \"edad\": 28,\n",
        "    \"ciudad\": \"Madrid\"\n",
        "}\n",
        "persona.items()"
      ],
      "metadata": {
        "colab": {
          "base_uri": "https://localhost:8080/"
        },
        "id": "HcZCGjgJpSb5",
        "outputId": "bc473b3c-95ea-4919-b110-6ffd6afd4530"
      },
      "execution_count": null,
      "outputs": [
        {
          "output_type": "execute_result",
          "data": {
            "text/plain": [
              "dict_items([('nombre', 'Carlos'), ('edad', 28), ('ciudad', 'Madrid')])"
            ]
          },
          "metadata": {},
          "execution_count": 10
        }
      ]
    },
    {
      "cell_type": "code",
      "source": [
        "['rojo','rojo','amarillo']\n",
        "\n",
        "{\n",
        "    'persona_1':{\n",
        "        'estatura':2,\n",
        "        'edad':\n",
        "    },\n",
        "    'amarillo':1\n",
        "}"
      ],
      "metadata": {
        "id": "XzUsJKk-qG8l"
      },
      "execution_count": null,
      "outputs": []
    },
    {
      "cell_type": "code",
      "source": [
        "# 1. Define un diccionario con información sobre una persona\n",
        "persona = {\n",
        "    \"nombre\": \"Carlos\",\n",
        "    \"edad\": 28,\n",
        "    \"ciudad\": \"Madrid\"\n",
        "}\n",
        "\n",
        "# 2. Imprime el diccionario original\n",
        "print(\"Información de la persona:\", persona)\n",
        "\n",
        "# 3. Accede e imprime el nombre de la persona\n",
        "print(\"Nombre:\", persona[\"nombre\"])\n",
        "\n",
        "# 4. Agrega una nueva clave para el país\n",
        "persona[\"pais\"] = \"España\"\n",
        "print(\"Después de agregar país:\", persona)\n",
        "\n",
        "# 5. Cambia la edad de la persona\n",
        "persona[\"edad\"] = 29\n",
        "print(\"Edad actualizada:\", persona[\"edad\"])\n",
        "\n",
        "# 6. Elimina la clave 'ciudad'\n",
        "persona.pop(\"ciudad\")\n",
        "print(\"Después de eliminar ciudad:\", persona)\n",
        "\n",
        "# 7. Imprime todas las claves del diccionario\n",
        "print(\"Claves en el diccionario:\", persona.keys())\n"
      ],
      "metadata": {
        "colab": {
          "base_uri": "https://localhost:8080/"
        },
        "id": "KINt8U06z38p",
        "outputId": "d1c97346-3dff-4e9d-a676-d04fc4250a51"
      },
      "execution_count": null,
      "outputs": [
        {
          "output_type": "stream",
          "name": "stdout",
          "text": [
            "Información de la persona: {'nombre': 'Carlos', 'edad': 28, 'ciudad': 'Madrid'}\n",
            "Nombre: Carlos\n",
            "Después de agregar país: {'nombre': 'Carlos', 'edad': 28, 'ciudad': 'Madrid', 'pais': 'España'}\n",
            "Edad actualizada: 29\n",
            "Después de eliminar ciudad: {'nombre': 'Carlos', 'edad': 29, 'pais': 'España'}\n",
            "Claves en el diccionario: dict_keys(['nombre', 'edad', 'pais'])\n"
          ]
        }
      ]
    },
    {
      "cell_type": "markdown",
      "source": [
        "---------------------------------------------------------------------"
      ],
      "metadata": {
        "id": "7z9YWCr4zLeK"
      }
    },
    {
      "cell_type": "markdown",
      "source": [
        "# Tipo de Dato: Tupla\n",
        "\n",
        "## Definición\n",
        "Una tupla es una colección ordenada de elementos. Se utiliza para almacenar múltiples valores en una sola variable.\n",
        "\n",
        "## Características\n",
        "- Se define utilizando paréntesis `()`.\n",
        "- Es **inmutable**, lo que significa que no se pueden modificar sus elementos después de ser creadas.\n",
        "- Permite elementos duplicados.\n",
        "- Puede contener diferentes tipos de datos (números, cadenas, listas, etc.).\n",
        "\n",
        "## Métodos Comunes\n",
        "- `len()`: Devuelve la longitud de la tupla.\n",
        "- `count(elemento)`: Devuelve el número de veces que un elemento aparece en la tupla.\n",
        "- `index(elemento)`: Devuelve el índice de la primera aparición de un elemento.\n",
        "\n",
        "## Ejemplo\n",
        "```python\n",
        "coordenadas = (10, 20)\n",
        "print(\"Coordenadas:\", coordenadas)  # Salida: (10, 20)\n"
      ],
      "metadata": {
        "id": "6z_TF4H70Sna"
      }
    },
    {
      "cell_type": "code",
      "source": [
        "# 1. Define una tupla con tus frutas favoritas\n",
        "frutas = (\"manzana\", \"banana\", \"cereza\", \"manzana\")\n",
        "\n",
        "# 2. Imprime la tupla original\n",
        "print(\"Frutas favoritas:\", frutas)\n",
        "\n",
        "# 3. Imprime la longitud de la tupla\n",
        "print(\"Número de frutas:\", len(frutas))\n",
        "\n",
        "# 4. Cuenta cuántas veces aparece 'manzana' en la tupla\n",
        "count_manzana = frutas.count(\"manzana\")\n",
        "print(\"Cantidad de 'manzana':\", count_manzana)\n",
        "\n",
        "# 5. Encuentra el índice de 'banana' en la tupla\n",
        "index_banana = frutas.index(\"banana\")\n",
        "print(\"Índice de 'banana':\", index_banana)\n",
        "\n",
        "# 6. Intenta modificar un elemento (esto generará un error)\n",
        "# frutas[0] = \"kiwi\"  # Descomentar para ver el error\n"
      ],
      "metadata": {
        "colab": {
          "base_uri": "https://localhost:8080/"
        },
        "id": "haNULD4H0UKp",
        "outputId": "5f69c540-c157-4e68-864f-9bad5117adb3"
      },
      "execution_count": null,
      "outputs": [
        {
          "output_type": "stream",
          "name": "stdout",
          "text": [
            "Frutas favoritas: ('manzana', 'banana', 'cereza', 'manzana')\n",
            "Número de frutas: 4\n",
            "Cantidad de 'manzana': 2\n",
            "Índice de 'banana': 1\n"
          ]
        }
      ]
    },
    {
      "cell_type": "markdown",
      "source": [
        "---------------------------------------------------------------------------"
      ],
      "metadata": {
        "id": "yNFsldlJ0X3I"
      }
    },
    {
      "cell_type": "markdown",
      "source": [
        "# Tipo de Dato: Set\n",
        "\n",
        "## Definición\n",
        "Un set es una colección no ordenada de elementos únicos. Se utiliza para almacenar valores sin duplicados.\n",
        "\n",
        "## Características\n",
        "- Se define utilizando llaves `{}` o la función `set()`.\n",
        "- No permite elementos duplicados; si se intenta agregar un elemento ya existente, no se añadirá.\n",
        "- Es **mutable**, lo que significa que se pueden agregar o eliminar elementos.\n",
        "- No se puede acceder a los elementos mediante índices, ya que no tienen un orden definido.\n",
        "\n",
        "## Métodos Comunes\n",
        "- `.add(elemento)`: Agrega un elemento al set.\n",
        "- `.remove(elemento)`: Elimina un elemento del set. Si el elemento no está, genera un error.\n",
        "- `.discard(elemento)`: Elimina un elemento del set sin generar error si no existe.\n",
        "- `.union(otro_set)`: Devuelve un nuevo set que es la unión de dos sets.\n",
        "- `.intersection(otro_set)`: Devuelve un nuevo set con los elementos comunes entre dos sets.\n",
        "\n",
        "## Ejemplo\n",
        "```python\n",
        "numeros = {1, 2, 3}\n",
        "numeros.add(4)\n",
        "print(numeros)  # Salida: {1, 2, 3, 4}\n"
      ],
      "metadata": {
        "id": "_h-uemj20cGX"
      }
    },
    {
      "cell_type": "code",
      "source": [
        "# 1. Define un set con algunos colores\n",
        "colores = {\"rojo\", \"verde\", \"azul\"}\n",
        "\n",
        "# 2. Imprime el set original\n",
        "print(\"Colores:\", colores)\n",
        "\n",
        "# 3. Agrega un nuevo color al set\n",
        "colores.add(\"amarillo\")\n",
        "print(\"Después de agregar amarillo:\", colores)\n",
        "\n",
        "# 4. Intenta agregar un color duplicado\n",
        "colores.add(\"rojo\")\n",
        "print(\"Después de intentar agregar rojo de nuevo:\", colores)  # Sin cambio\n",
        "\n",
        "# 5. Elimina un color del set\n",
        "colores.remove(\"verde\")\n",
        "print(\"Después de eliminar verde:\", colores)\n",
        "\n",
        "# 6. Usa discard para eliminar un color que no existe (sin error)\n",
        "colores.discard(\"morado\")\n",
        "print(\"Después de intentar eliminar morado:\", colores)\n",
        "\n",
        "# 7. Crea otro set y encuentra la unión\n",
        "otros_colores = {\"cyan\", \"magenta\"}\n",
        "union_colores = colores.union(otros_colores)\n",
        "print(\"Unión de colores:\", union_colores)\n"
      ],
      "metadata": {
        "colab": {
          "base_uri": "https://localhost:8080/"
        },
        "id": "r5PqVPAC0dxZ",
        "outputId": "e7b2d439-b19b-4f6c-d9ab-4290ba7f0d57"
      },
      "execution_count": null,
      "outputs": [
        {
          "output_type": "stream",
          "name": "stdout",
          "text": [
            "Colores: {'verde', 'azul', 'rojo'}\n",
            "Después de agregar amarillo: {'verde', 'amarillo', 'azul', 'rojo'}\n",
            "Después de intentar agregar rojo de nuevo: {'verde', 'amarillo', 'azul', 'rojo'}\n",
            "Después de eliminar verde: {'amarillo', 'azul', 'rojo'}\n",
            "Después de intentar eliminar morado: {'amarillo', 'azul', 'rojo'}\n",
            "Unión de colores: {'cyan', 'magenta', 'amarillo', 'azul', 'rojo'}\n"
          ]
        }
      ]
    },
    {
      "cell_type": "markdown",
      "source": [
        "-------------------------------------------------------------------------------------------"
      ],
      "metadata": {
        "id": "9Edb1HqD73ur"
      }
    },
    {
      "cell_type": "markdown",
      "source": [
        "# Tipo de Dato: Booleano\n",
        "\n",
        "## Definición\n",
        "Un booleano (`bool`) es un tipo de dato que solo puede tener dos valores: `True` (verdadero) y `False` (falso). Estos valores se utilizan para representar estados o resultados de condiciones lógicas.\n",
        "\n",
        "## Características\n",
        "- En Python, el tipo booleano es parte de los tipos de datos básicos.\n",
        "- Los valores `True` y `False` son interpretados también como `1` y `0` respectivamente en operaciones numéricas.\n",
        "- Los valores booleanos son útiles en expresiones lógicas y estructuras de control, como condicionales (`if`, `while`), que determinan el flujo de ejecución del programa.\n",
        "\n",
        "## Conversión a Booleano\n",
        "Cualquier valor en Python puede ser evaluado como un booleano usando la función `bool()`. Algunas reglas básicas son:\n",
        "- Los valores \"vacíos\" como `0`, `None`, `\"\"` (cadena vacía), y `[]` (lista vacía) se interpretan como `False`.\n",
        "- Cualquier otro valor se evalúa como `True`.\n",
        "\n",
        "## Ejemplo de Conversión a Booleano\n",
        "\n",
        "```python\n",
        "print(bool(0))        # Salida: False\n",
        "print(bool(1))        # Salida: True\n",
        "print(bool(\"\"))       # Salida: False\n",
        "print(bool(\"Hola\"))   # Salida: True\n"
      ],
      "metadata": {
        "id": "zIZsyFja747x"
      }
    },
    {
      "cell_type": "markdown",
      "source": [
        "-----------------------------------------------"
      ],
      "metadata": {
        "id": "sARDEucNyRV7"
      }
    },
    {
      "cell_type": "markdown",
      "source": [
        "# Resumen\n",
        "\n",
        "| Tipo de dato   | Descripción                             | Iterable | Mutable  | Ejemplo              |\n",
        "|----------------|-----------------------------------------|----------|----------|----------------------|\n",
        "| List           | Colección ordenada de elementos.       | Sí       | Sí       | `[1, 2, 3]`          |\n",
        "| Tuple          | Colección ordenada e inmutable.        | Sí       | No       | `(1, 2, 3)`          |\n",
        "| Set            | Colección de elementos únicos.          | Sí       | Sí       | `{1, 2, 3}`          |\n",
        "| Dictionary     | Colección de pares clave-valor.        | Sí       | Sí       | `{'a': 1, 'b': 2}`   |\n",
        "| String         | Secuencia de caracteres.                | Sí       | No       | `\"Hola\"`             |\n",
        "| Integer        | Número entero.                          | No       | No       | `42`                 |\n",
        "| Float          | Número de punto flotante.               | No       | No       | `3.14`               |\n",
        "| Boolean        | Valor de verdad: `True` o `False`.     | No       | No       | `True`               |\n"
      ],
      "metadata": {
        "id": "F1J4EXv96uh1"
      }
    },
    {
      "cell_type": "markdown",
      "source": [
        "# Mutabilidad\n"
      ],
      "metadata": {
        "id": "7iOpfFe49R7m"
      }
    },
    {
      "cell_type": "code",
      "source": [
        "# Ejemplo de mutabilidad e inmutabilidad\n",
        "\n",
        "# Los tipos de datos como listas y conjuntos (sets) son mutables.\n",
        "# Los tipos de datos como enteros, cadenas (strings) y tuplas son inmutables.\n",
        "\n",
        "# Ejemplo con lista (mutable)\n",
        "lista = [1, 2, 3]\n",
        "print(\"Lista original:\", lista)  # Salida: [1, 2, 3]\n",
        "\n",
        "# Modificamos un elemento de la lista\n",
        "lista[0] = 100\n",
        "print(\"Lista modificada:\", lista)  # Salida: [100, 2, 3]\n",
        "\n",
        "# Agregamos un nuevo elemento\n",
        "lista.append(4)\n",
        "print(\"Lista con nuevo elemento:\", lista)  # Salida: [100, 2, 3, 4]"
      ],
      "metadata": {
        "colab": {
          "base_uri": "https://localhost:8080/"
        },
        "id": "tInofJCzySuc",
        "outputId": "87b4b4c2-5830-43be-8a9c-28069d1c589c"
      },
      "execution_count": null,
      "outputs": [
        {
          "output_type": "stream",
          "name": "stdout",
          "text": [
            "Lista original: [1, 2, 3]\n",
            "Lista modificada: [100, 2, 3]\n",
            "Lista con nuevo elemento: [100, 2, 3, 4]\n"
          ]
        }
      ]
    },
    {
      "cell_type": "code",
      "source": [
        "# Ejemplo con cadena (inmutable)\n",
        "cadena = \"Hola\"\n",
        "print(\"Cadena original:\", cadena)  # Salida: \"Hola\"\n",
        "\n",
        "# Intentamos modificar un carácter de la cadena\n",
        "try:\n",
        "    cadena[0] = \"M\"  # Esto generará un error\n",
        "except TypeError as e:\n",
        "    print(\"Error al intentar modificar cadena:\", e)\n",
        "\n",
        "# Para modificar una cadena, debemos crear una nueva\n",
        "nueva_cadena = \"M\" + cadena[1:]\n",
        "print(\"Nueva cadena:\", nueva_cadena)  # Salida: \"Mola\""
      ],
      "metadata": {
        "colab": {
          "base_uri": "https://localhost:8080/"
        },
        "id": "6Pa5HAx5Vqge",
        "outputId": "181d8f5b-ad17-4840-b130-efb35398697a"
      },
      "execution_count": null,
      "outputs": [
        {
          "output_type": "stream",
          "name": "stdout",
          "text": [
            "Cadena original: Hola\n",
            "Error al intentar modificar cadena: 'str' object does not support item assignment\n",
            "Nueva cadena: Mola\n"
          ]
        }
      ]
    },
    {
      "cell_type": "code",
      "source": [
        "\n",
        "# Ejemplo con conjunto (mutable)\n",
        "conjunto = {1, 2, 3}\n",
        "print(\"Conjunto original:\", conjunto)  # Salida: {1, 2, 3}\n",
        "\n",
        "# Agregamos un elemento al conjunto\n",
        "conjunto.add(4)\n",
        "print(\"Conjunto después de agregar:\", conjunto)  # Salida: {1, 2, 3, 4}\n",
        "\n",
        "# Eliminamos un elemento del conjunto\n",
        "conjunto.remove(2)\n",
        "print(\"Conjunto después de eliminar:\", conjunto)  # Salida: {1, 3, 4}\n",
        "\n",
        "# Ejemplo con tupla (inmutable)\n",
        "tupla = (1, 2, 3)\n",
        "print(\"Tupla original:\", tupla)  # Salida: (1, 2, 3)\n",
        "\n",
        "# Intentamos modificar un elemento de la tupla\n",
        "try:\n",
        "    tupla[0] = 100  # Esto generará un error\n",
        "except TypeError as e:\n",
        "    print(\"Error al intentar modificar tupla:\", e)\n"
      ],
      "metadata": {
        "id": "4cNwFj10Vu-M",
        "colab": {
          "base_uri": "https://localhost:8080/"
        },
        "outputId": "fc5e151b-f183-4bd0-c620-ed749377f9b6"
      },
      "execution_count": null,
      "outputs": [
        {
          "output_type": "stream",
          "name": "stdout",
          "text": [
            "Conjunto original: {1, 2, 3}\n",
            "Conjunto después de agregar: {1, 2, 3, 4}\n",
            "Conjunto después de eliminar: {1, 3, 4}\n",
            "Tupla original: (1, 2, 3)\n",
            "Error al intentar modificar tupla: 'tuple' object does not support item assignment\n"
          ]
        }
      ]
    },
    {
      "cell_type": "markdown",
      "source": [
        "------------------------------------------------------------"
      ],
      "metadata": {
        "id": "tpWFpy_vWiS-"
      }
    },
    {
      "cell_type": "markdown",
      "source": [
        "# Indexación\n",
        "La indexación nos permite obtener un elemento en una posición específica dentro de un `string` o una `lista`. Python utiliza índices (posiciones) numéricos que comienzan en `0`.\n",
        "\n",
        "### Ejemplo con Strings\n",
        "Un `string` es una secuencia de caracteres (letras, números o símbolos) que se escribe entre comillas.\n",
        "\n",
        "```python\n",
        "palabra = \"Python\"\n",
        "print(palabra[0])  # Salida: 'P' (el primer carácter)\n",
        "print(palabra[2])  # Salida: 't' (el tercer carácter)\n",
        "print(palabra[-1]) # Salida: 'n' (el último carácter)\n",
        "```"
      ],
      "metadata": {
        "id": "-I7p0-6j6wwh"
      }
    },
    {
      "cell_type": "markdown",
      "source": [
        "![imagen1](https://encrypted-tbn0.gstatic.com/images?q=tbn:ANd9GcQJAXouNc76_umhrAtaB4fSuZiEDr9vNreg-A&s)"
      ],
      "metadata": {
        "id": "qNslEqcYGkip"
      }
    },
    {
      "cell_type": "code",
      "source": [
        "a = 'abracadabra'\n",
        "a[-8:8]"
      ],
      "metadata": {
        "colab": {
          "base_uri": "https://localhost:8080/",
          "height": 36
        },
        "id": "Bk0QjOwTxoXC",
        "outputId": "67840267-77e0-4cf4-ebfd-5a353d2a72fa"
      },
      "execution_count": null,
      "outputs": [
        {
          "output_type": "execute_result",
          "data": {
            "text/plain": [
              "'acada'"
            ],
            "application/vnd.google.colaboratory.intrinsic+json": {
              "type": "string"
            }
          },
          "metadata": {},
          "execution_count": 31
        }
      ]
    },
    {
      "cell_type": "code",
      "source": [
        "a[-8:-3]"
      ],
      "metadata": {
        "id": "fBf8PIXXzxcz",
        "outputId": "5f3a00a3-ce67-47d1-9123-7ebf2b99756f",
        "colab": {
          "base_uri": "https://localhost:8080/",
          "height": 36
        }
      },
      "execution_count": null,
      "outputs": [
        {
          "output_type": "execute_result",
          "data": {
            "text/plain": [
              "'acada'"
            ],
            "application/vnd.google.colaboratory.intrinsic+json": {
              "type": "string"
            }
          },
          "metadata": {},
          "execution_count": 32
        }
      ]
    },
    {
      "cell_type": "code",
      "source": [
        "numeros = [10, 20, 30, 40, 50]\n",
        "print(numeros[0])  # Salida: 10 (el primer elemento)\n",
        "print(numeros[2])  # Salida: 30 (el tercer elemento)\n",
        "print(numeros[-1]) # Salida: 50 (el último elemento)"
      ],
      "metadata": {
        "colab": {
          "base_uri": "https://localhost:8080/"
        },
        "id": "O7tZhrSeWqzg",
        "outputId": "f33f9a7d-fce9-480b-a44b-c7d87bbda3a9"
      },
      "execution_count": null,
      "outputs": [
        {
          "output_type": "stream",
          "name": "stdout",
          "text": [
            "10\n",
            "30\n",
            "50\n"
          ]
        }
      ]
    },
    {
      "cell_type": "markdown",
      "source": [
        "-----------------------------------"
      ],
      "metadata": {
        "id": "JqkktomOWtej"
      }
    },
    {
      "cell_type": "markdown",
      "source": [
        "# Slicing\n",
        "\n",
        "El **slicing** o \"rebanado\" es una técnica en Python para obtener una sección o subconjunto de una secuencia, como un `string` (cadena de texto) o una `lista`. Esto se hace especificando un rango de índices.\n",
        "\n",
        "La sintaxis básica es: `secuencia[inicio:fin]`, donde:\n",
        "- `inicio` es el índice donde comienza la sección que queremos obtener.\n",
        "- `fin` es el índice donde queremos que termine la sección (pero sin incluir este índice).\n",
        "\n",
        "### Ejemplos\n",
        "\n",
        "```python\n",
        "texto = \"Aprender Python\"\n",
        "print(texto[0:8])   # Salida: 'Aprender' (del índice 0 al 7)\n",
        "print(texto[9:])    # Salida: 'Python' (del índice 9 hasta el final)\n",
        "print(texto[:8])    # Salida: 'Aprender' (desde el inicio hasta el índice 7)\n",
        "print(texto[-6:])   # Salida: 'Python' (los últimos 6 caracteres)\n"
      ],
      "metadata": {
        "id": "GwpOoQvKXVWN"
      }
    },
    {
      "cell_type": "code",
      "source": [
        "numeros = [10, 20, 30, 40, 50, 60, 70]\n",
        "print(numeros[1:4])  # Salida: [20, 30, 40] (del índice 1 al 3)\n",
        "print(numeros[3:])   # Salida: [40, 50, 60, 70] (del índice 3 al final)\n",
        "print(numeros[:4])   # Salida: [10, 20, 30, 40] (desde el inicio hasta el índice 3)\n",
        "print(numeros[-3:])  # Salida: [50, 60, 70] (los últimos 3 elementos)"
      ],
      "metadata": {
        "colab": {
          "base_uri": "https://localhost:8080/"
        },
        "id": "RisHyZ5gWvni",
        "outputId": "7899dede-899a-41e2-cd5f-f2b55702ade7"
      },
      "execution_count": null,
      "outputs": [
        {
          "output_type": "stream",
          "name": "stdout",
          "text": [
            "[20, 30, 40]\n",
            "[40, 50, 60, 70]\n",
            "[10, 20, 30, 40]\n",
            "[50, 60, 70]\n"
          ]
        }
      ]
    }
  ]
}